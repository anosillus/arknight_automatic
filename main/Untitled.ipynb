{
 "cells": [
  {
   "cell_type": "code",
   "execution_count": 1,
   "metadata": {},
   "outputs": [],
   "source": [
    "import cv2"
   ]
  },
  {
   "cell_type": "code",
   "execution_count": 2,
   "metadata": {},
   "outputs": [
    {
     "data": {
      "text/plain": [
       "'4.1.1'"
      ]
     },
     "execution_count": 2,
     "metadata": {},
     "output_type": "execute_result"
    }
   ],
   "source": [
    "cv2.__version__"
   ]
  },
  {
   "cell_type": "code",
   "execution_count": null,
   "metadata": {},
   "outputs": [],
   "source": []
  },
  {
   "cell_type": "code",
   "execution_count": null,
   "metadata": {},
   "outputs": [],
   "source": [
    "import io\n",
    "import socket\n",
    "import struct\n",
    "import cv2\n",
    "import numpy as np\n",
    "\n",
    "# Start a socket listening for connections on 0.0.0.0:8000 (0.0.0.0 means\n",
    "# all interfaces)\n",
    "server_socket = socket.socket()\n",
    "server_socket.bind(('0.0.0.0', 777))\n",
    "server_socket.listen(0)\n",
    "\n",
    "# Accept a single connection and make a file-like object out of it\n",
    "connection = server_socket.accept()[0].makefile('rb')\n",
    "try:\n",
    "    while True:\n",
    "        # Read the length of the image as a 32-bit unsigned int. If the\n",
    "        # length is zero, quit the loop\n",
    "        image_len = struct.unpack('<L', connection.read(struct.calcsize('<L')))[0]\n",
    "        if not image_len:\n",
    "            break\n",
    "        # Construct a stream to hold the image data and read the image\n",
    "        # data from the connection\n",
    "        image_stream = io.BytesIO()\n",
    "        image_stream.write(connection.read(image_len))\n",
    "        # Rewind the stream, open it as an image with opencv and do some\n",
    "        # processing on it\n",
    "        image_stream.seek(0)\n",
    "        image = Image.open(image_stream)\n",
    "\n",
    "        data = np.fromstring(image_stream.getvalue(), dtype=np.uint8)\n",
    "        imagedisp = cv2.imdecode(data, 1)\n",
    "\n",
    "        cv2.imshow(\"Frame\",imagedisp)\n",
    "        cv2.waitKey(1)  #imshow will not output an image if you do not use waitKey\n",
    "        cv2.destroyAllWindows() #cleanup windows \n",
    "finally:\n",
    "    connection.close()\n",
    "    server_socket.close()"
   ]
  }
 ],
 "metadata": {
  "kernelspec": {
   "display_name": "Python 3",
   "language": "python",
   "name": "python3"
  },
  "language_info": {
   "codemirror_mode": {
    "name": "ipython",
    "version": 3
   },
   "file_extension": ".py",
   "mimetype": "text/x-python",
   "name": "python",
   "nbconvert_exporter": "python",
   "pygments_lexer": "ipython3",
   "version": "3.7.4"
  }
 },
 "nbformat": 4,
 "nbformat_minor": 4
}
